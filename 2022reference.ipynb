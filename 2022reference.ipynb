{
  "nbformat": 4,
  "nbformat_minor": 0,
  "metadata": {
    "colab": {
      "name": "tip-colab-파일저장및업로드-colab",
      "provenance": [],
      "machine_shape": "hm",
      "include_colab_link": true
    },
    "kernelspec": {
      "display_name": "Python 3",
      "name": "python3"
    },
    "accelerator": "GPU",
    "gpuClass": "standard"
  },
  "cells": [
    {
      "cell_type": "markdown",
      "metadata": {
        "id": "view-in-github",
        "colab_type": "text"
      },
      "source": [
        "<a href=\"https://colab.research.google.com/github/whkwls2653/Emotion-Recognition/blob/main/2022reference.ipynb\" target=\"_parent\"><img src=\"https://colab.research.google.com/assets/colab-badge.svg\" alt=\"Open In Colab\"/></a>"
      ]
    },
    {
      "metadata": {
        "id": "7-JR7WQ5O70X",
        "outputId": "fe360d1d-fc10-48a5-a01c-0c78872ccc2f",
        "colab": {
          "base_uri": "https://localhost:8080/"
        }
      },
      "cell_type": "code",
      "source": [
        "from google.colab import drive\n",
        "drive.mount('/content/gdrive')"
      ],
      "execution_count": 1,
      "outputs": [
        {
          "output_type": "stream",
          "name": "stdout",
          "text": [
            "Drive already mounted at /content/gdrive; to attempt to forcibly remount, call drive.mount(\"/content/gdrive\", force_remount=True).\n"
          ]
        }
      ]
    },
    {
      "cell_type": "code",
      "source": [
        "!pip install transformers\n",
        "!pip install sklearn\n",
        "!pip install scipy\n",
        "!pip install pandas"
      ],
      "metadata": {
        "id": "D6OwESwzQd96",
        "outputId": "21fa232a-a0ab-4812-93a6-83b6e18280ed",
        "colab": {
          "base_uri": "https://localhost:8080/"
        }
      },
      "execution_count": 2,
      "outputs": [
        {
          "output_type": "stream",
          "name": "stdout",
          "text": [
            "Looking in indexes: https://pypi.org/simple, https://us-python.pkg.dev/colab-wheels/public/simple/\n",
            "Collecting transformers\n",
            "  Downloading transformers-4.27.4-py3-none-any.whl (6.8 MB)\n",
            "\u001b[2K     \u001b[90m━━━━━━━━━━━━━━━━━━━━━━━━━━━━━━━━━━━━━━━━\u001b[0m \u001b[32m6.8/6.8 MB\u001b[0m \u001b[31m58.0 MB/s\u001b[0m eta \u001b[36m0:00:00\u001b[0m\n",
            "\u001b[?25hRequirement already satisfied: filelock in /usr/local/lib/python3.9/dist-packages (from transformers) (3.10.7)\n",
            "Collecting huggingface-hub<1.0,>=0.11.0\n",
            "  Downloading huggingface_hub-0.13.3-py3-none-any.whl (199 kB)\n",
            "\u001b[2K     \u001b[90m━━━━━━━━━━━━━━━━━━━━━━━━━━━━━━━━━━━━━━\u001b[0m \u001b[32m199.8/199.8 KB\u001b[0m \u001b[31m23.4 MB/s\u001b[0m eta \u001b[36m0:00:00\u001b[0m\n",
            "\u001b[?25hRequirement already satisfied: tqdm>=4.27 in /usr/local/lib/python3.9/dist-packages (from transformers) (4.65.0)\n",
            "Requirement already satisfied: requests in /usr/local/lib/python3.9/dist-packages (from transformers) (2.27.1)\n",
            "Requirement already satisfied: regex!=2019.12.17 in /usr/local/lib/python3.9/dist-packages (from transformers) (2022.10.31)\n",
            "Requirement already satisfied: numpy>=1.17 in /usr/local/lib/python3.9/dist-packages (from transformers) (1.22.4)\n",
            "Collecting tokenizers!=0.11.3,<0.14,>=0.11.1\n",
            "  Downloading tokenizers-0.13.2-cp39-cp39-manylinux_2_17_x86_64.manylinux2014_x86_64.whl (7.6 MB)\n",
            "\u001b[2K     \u001b[90m━━━━━━━━━━━━━━━━━━━━━━━━━━━━━━━━━━━━━━━━\u001b[0m \u001b[32m7.6/7.6 MB\u001b[0m \u001b[31m104.1 MB/s\u001b[0m eta \u001b[36m0:00:00\u001b[0m\n",
            "\u001b[?25hRequirement already satisfied: packaging>=20.0 in /usr/local/lib/python3.9/dist-packages (from transformers) (23.0)\n",
            "Requirement already satisfied: pyyaml>=5.1 in /usr/local/lib/python3.9/dist-packages (from transformers) (6.0)\n",
            "Requirement already satisfied: typing-extensions>=3.7.4.3 in /usr/local/lib/python3.9/dist-packages (from huggingface-hub<1.0,>=0.11.0->transformers) (4.5.0)\n",
            "Requirement already satisfied: charset-normalizer~=2.0.0 in /usr/local/lib/python3.9/dist-packages (from requests->transformers) (2.0.12)\n",
            "Requirement already satisfied: idna<4,>=2.5 in /usr/local/lib/python3.9/dist-packages (from requests->transformers) (3.4)\n",
            "Requirement already satisfied: urllib3<1.27,>=1.21.1 in /usr/local/lib/python3.9/dist-packages (from requests->transformers) (1.26.15)\n",
            "Requirement already satisfied: certifi>=2017.4.17 in /usr/local/lib/python3.9/dist-packages (from requests->transformers) (2022.12.7)\n",
            "Installing collected packages: tokenizers, huggingface-hub, transformers\n",
            "Successfully installed huggingface-hub-0.13.3 tokenizers-0.13.2 transformers-4.27.4\n",
            "Looking in indexes: https://pypi.org/simple, https://us-python.pkg.dev/colab-wheels/public/simple/\n",
            "Collecting sklearn\n",
            "  Downloading sklearn-0.0.post1.tar.gz (3.6 kB)\n",
            "  Preparing metadata (setup.py) ... \u001b[?25l\u001b[?25hdone\n",
            "Building wheels for collected packages: sklearn\n",
            "  Building wheel for sklearn (setup.py) ... \u001b[?25l\u001b[?25hdone\n",
            "  Created wheel for sklearn: filename=sklearn-0.0.post1-py3-none-any.whl size=2955 sha256=b17e6aa9280237d26f6f611d6fd2504054a2d6ab1fb8340bae2295471d71d262\n",
            "  Stored in directory: /root/.cache/pip/wheels/f8/e0/3d/9d0c2020c44a519b9f02ab4fa6d2a4a996c98d79ab2f569fa1\n",
            "Successfully built sklearn\n",
            "Installing collected packages: sklearn\n",
            "Successfully installed sklearn-0.0.post1\n",
            "Looking in indexes: https://pypi.org/simple, https://us-python.pkg.dev/colab-wheels/public/simple/\n",
            "Requirement already satisfied: scipy in /usr/local/lib/python3.9/dist-packages (1.10.1)\n",
            "Requirement already satisfied: numpy<1.27.0,>=1.19.5 in /usr/local/lib/python3.9/dist-packages (from scipy) (1.22.4)\n",
            "Looking in indexes: https://pypi.org/simple, https://us-python.pkg.dev/colab-wheels/public/simple/\n",
            "Requirement already satisfied: pandas in /usr/local/lib/python3.9/dist-packages (1.4.4)\n",
            "Requirement already satisfied: python-dateutil>=2.8.1 in /usr/local/lib/python3.9/dist-packages (from pandas) (2.8.2)\n",
            "Requirement already satisfied: pytz>=2020.1 in /usr/local/lib/python3.9/dist-packages (from pandas) (2022.7.1)\n",
            "Requirement already satisfied: numpy>=1.18.5 in /usr/local/lib/python3.9/dist-packages (from pandas) (1.22.4)\n",
            "Requirement already satisfied: six>=1.5 in /usr/local/lib/python3.9/dist-packages (from python-dateutil>=2.8.1->pandas) (1.16.0)\n"
          ]
        }
      ]
    },
    {
      "cell_type": "code",
      "source": [
        "!pip install audtorch\n",
        "!pip install TensorRT"
      ],
      "metadata": {
        "id": "SfhwaF6mQ5H2",
        "outputId": "f95d6b09-9b9f-4bc6-d4d4-5b4990152f01",
        "colab": {
          "base_uri": "https://localhost:8080/"
        }
      },
      "execution_count": 3,
      "outputs": [
        {
          "output_type": "stream",
          "name": "stdout",
          "text": [
            "Looking in indexes: https://pypi.org/simple, https://us-python.pkg.dev/colab-wheels/public/simple/\n",
            "Collecting audtorch\n",
            "  Downloading audtorch-0.6.4-py3-none-any.whl (54 kB)\n",
            "\u001b[?25l     \u001b[90m━━━━━━━━━━━━━━━━━━━━━━━━━━━━━━━━━━━━━━━━\u001b[0m \u001b[32m0.0/54.7 KB\u001b[0m \u001b[31m?\u001b[0m eta \u001b[36m-:--:--\u001b[0m\r\u001b[2K     \u001b[90m━━━━━━━━━━━━━━━━━━━━━━━━━━━━━━━━━━━━━━━━\u001b[0m \u001b[32m54.7/54.7 KB\u001b[0m \u001b[31m3.4 MB/s\u001b[0m eta \u001b[36m0:00:00\u001b[0m\n",
            "\u001b[?25hRequirement already satisfied: librosa>=0.8.0 in /usr/local/lib/python3.9/dist-packages (from audtorch) (0.10.0.post2)\n",
            "Requirement already satisfied: tabulate in /usr/local/lib/python3.9/dist-packages (from audtorch) (0.8.10)\n",
            "Collecting resampy\n",
            "  Downloading resampy-0.4.2-py3-none-any.whl (3.1 MB)\n",
            "\u001b[2K     \u001b[90m━━━━━━━━━━━━━━━━━━━━━━━━━━━━━━━━━━━━━━━━\u001b[0m \u001b[32m3.1/3.1 MB\u001b[0m \u001b[31m41.9 MB/s\u001b[0m eta \u001b[36m0:00:00\u001b[0m\n",
            "\u001b[?25hCollecting audiofile\n",
            "  Downloading audiofile-1.2.1-py3-none-any.whl (14 kB)\n",
            "Requirement already satisfied: torch in /usr/local/lib/python3.9/dist-packages (from audtorch) (1.13.1+cu116)\n",
            "Requirement already satisfied: tqdm in /usr/local/lib/python3.9/dist-packages (from audtorch) (4.65.0)\n",
            "Requirement already satisfied: numpy in /usr/local/lib/python3.9/dist-packages (from audtorch) (1.22.4)\n",
            "Requirement already satisfied: pandas in /usr/local/lib/python3.9/dist-packages (from audtorch) (1.4.4)\n",
            "Requirement already satisfied: audioread>=2.1.9 in /usr/local/lib/python3.9/dist-packages (from librosa>=0.8.0->audtorch) (3.0.0)\n",
            "Requirement already satisfied: soundfile>=0.12.1 in /usr/local/lib/python3.9/dist-packages (from librosa>=0.8.0->audtorch) (0.12.1)\n",
            "Requirement already satisfied: msgpack>=1.0 in /usr/local/lib/python3.9/dist-packages (from librosa>=0.8.0->audtorch) (1.0.5)\n",
            "Requirement already satisfied: numba>=0.51.0 in /usr/local/lib/python3.9/dist-packages (from librosa>=0.8.0->audtorch) (0.56.4)\n",
            "Requirement already satisfied: lazy-loader>=0.1 in /usr/local/lib/python3.9/dist-packages (from librosa>=0.8.0->audtorch) (0.2)\n",
            "Requirement already satisfied: joblib>=0.14 in /usr/local/lib/python3.9/dist-packages (from librosa>=0.8.0->audtorch) (1.1.1)\n",
            "Requirement already satisfied: scikit-learn>=0.20.0 in /usr/local/lib/python3.9/dist-packages (from librosa>=0.8.0->audtorch) (1.2.2)\n",
            "Requirement already satisfied: scipy>=1.2.0 in /usr/local/lib/python3.9/dist-packages (from librosa>=0.8.0->audtorch) (1.10.1)\n",
            "Requirement already satisfied: decorator>=4.3.0 in /usr/local/lib/python3.9/dist-packages (from librosa>=0.8.0->audtorch) (4.4.2)\n",
            "Requirement already satisfied: pooch<1.7,>=1.0 in /usr/local/lib/python3.9/dist-packages (from librosa>=0.8.0->audtorch) (1.6.0)\n",
            "Requirement already satisfied: typing-extensions>=4.1.1 in /usr/local/lib/python3.9/dist-packages (from librosa>=0.8.0->audtorch) (4.5.0)\n",
            "Requirement already satisfied: soxr>=0.3.2 in /usr/local/lib/python3.9/dist-packages (from librosa>=0.8.0->audtorch) (0.3.4)\n",
            "Collecting audeer\n",
            "  Downloading audeer-1.19.0-py3-none-any.whl (20 kB)\n",
            "Collecting audmath>=1.2.1\n",
            "  Downloading audmath-1.2.1-py3-none-any.whl (10 kB)\n",
            "Requirement already satisfied: python-dateutil>=2.8.1 in /usr/local/lib/python3.9/dist-packages (from pandas->audtorch) (2.8.2)\n",
            "Requirement already satisfied: pytz>=2020.1 in /usr/local/lib/python3.9/dist-packages (from pandas->audtorch) (2022.7.1)\n",
            "Requirement already satisfied: llvmlite<0.40,>=0.39.0dev0 in /usr/local/lib/python3.9/dist-packages (from numba>=0.51.0->librosa>=0.8.0->audtorch) (0.39.1)\n",
            "Requirement already satisfied: setuptools in /usr/local/lib/python3.9/dist-packages (from numba>=0.51.0->librosa>=0.8.0->audtorch) (67.6.1)\n",
            "Requirement already satisfied: requests>=2.19.0 in /usr/local/lib/python3.9/dist-packages (from pooch<1.7,>=1.0->librosa>=0.8.0->audtorch) (2.27.1)\n",
            "Requirement already satisfied: appdirs>=1.3.0 in /usr/local/lib/python3.9/dist-packages (from pooch<1.7,>=1.0->librosa>=0.8.0->audtorch) (1.4.4)\n",
            "Requirement already satisfied: packaging>=20.0 in /usr/local/lib/python3.9/dist-packages (from pooch<1.7,>=1.0->librosa>=0.8.0->audtorch) (23.0)\n",
            "Requirement already satisfied: six>=1.5 in /usr/local/lib/python3.9/dist-packages (from python-dateutil>=2.8.1->pandas->audtorch) (1.16.0)\n",
            "Requirement already satisfied: threadpoolctl>=2.0.0 in /usr/local/lib/python3.9/dist-packages (from scikit-learn>=0.20.0->librosa>=0.8.0->audtorch) (3.1.0)\n",
            "Requirement already satisfied: cffi>=1.0 in /usr/local/lib/python3.9/dist-packages (from soundfile>=0.12.1->librosa>=0.8.0->audtorch) (1.15.1)\n",
            "Requirement already satisfied: pycparser in /usr/local/lib/python3.9/dist-packages (from cffi>=1.0->soundfile>=0.12.1->librosa>=0.8.0->audtorch) (2.21)\n",
            "Requirement already satisfied: certifi>=2017.4.17 in /usr/local/lib/python3.9/dist-packages (from requests>=2.19.0->pooch<1.7,>=1.0->librosa>=0.8.0->audtorch) (2022.12.7)\n",
            "Requirement already satisfied: urllib3<1.27,>=1.21.1 in /usr/local/lib/python3.9/dist-packages (from requests>=2.19.0->pooch<1.7,>=1.0->librosa>=0.8.0->audtorch) (1.26.15)\n",
            "Requirement already satisfied: charset-normalizer~=2.0.0 in /usr/local/lib/python3.9/dist-packages (from requests>=2.19.0->pooch<1.7,>=1.0->librosa>=0.8.0->audtorch) (2.0.12)\n",
            "Requirement already satisfied: idna<4,>=2.5 in /usr/local/lib/python3.9/dist-packages (from requests>=2.19.0->pooch<1.7,>=1.0->librosa>=0.8.0->audtorch) (3.4)\n",
            "Installing collected packages: audmath, audeer, resampy, audiofile, audtorch\n",
            "Successfully installed audeer-1.19.0 audiofile-1.2.1 audmath-1.2.1 audtorch-0.6.4 resampy-0.4.2\n",
            "Looking in indexes: https://pypi.org/simple, https://us-python.pkg.dev/colab-wheels/public/simple/\n",
            "Collecting TensorRT\n",
            "  Downloading tensorrt-8.6.0-cp39-none-manylinux_2_17_x86_64.whl (819.2 MB)\n",
            "\u001b[2K     \u001b[90m━━━━━━━━━━━━━━━━━━━━━━━━━━━━━━━━━━━━━━━\u001b[0m \u001b[32m819.2/819.2 MB\u001b[0m \u001b[31m1.5 MB/s\u001b[0m eta \u001b[36m0:00:00\u001b[0m\n",
            "\u001b[?25hCollecting nvidia-cublas-cu12\n",
            "  Downloading nvidia_cublas_cu12-12.1.0.26-py3-none-manylinux1_x86_64.whl (379.5 MB)\n",
            "\u001b[2K     \u001b[90m━━━━━━━━━━━━━━━━━━━━━━━━━━━━━━━━━━━━━━━\u001b[0m \u001b[32m379.5/379.5 MB\u001b[0m \u001b[31m1.7 MB/s\u001b[0m eta \u001b[36m0:00:00\u001b[0m\n",
            "\u001b[?25hCollecting nvidia-cuda-runtime-cu12\n",
            "  Downloading nvidia_cuda_runtime_cu12-12.1.55-py3-none-manylinux1_x86_64.whl (823 kB)\n",
            "\u001b[2K     \u001b[90m━━━━━━━━━━━━━━━━━━━━━━━━━━━━━━━━━━━━━━\u001b[0m \u001b[32m823.5/823.5 KB\u001b[0m \u001b[31m55.9 MB/s\u001b[0m eta \u001b[36m0:00:00\u001b[0m\n",
            "\u001b[?25hCollecting nvidia-cudnn-cu12\n",
            "  Downloading nvidia_cudnn_cu12-8.8.1.3-py3-none-manylinux1_x86_64.whl (718.4 MB)\n",
            "\u001b[2K     \u001b[90m━━━━━━━━━━━━━━━━━━━━━━━━━━━━━━━━━━━━━━━\u001b[0m \u001b[32m718.4/718.4 MB\u001b[0m \u001b[31m2.2 MB/s\u001b[0m eta \u001b[36m0:00:00\u001b[0m\n",
            "\u001b[?25hInstalling collected packages: nvidia-cuda-runtime-cu12, nvidia-cublas-cu12, nvidia-cudnn-cu12, TensorRT\n",
            "Successfully installed TensorRT-8.6.0 nvidia-cublas-cu12-12.1.0.26 nvidia-cuda-runtime-cu12-12.1.55 nvidia-cudnn-cu12-8.8.1.3\n"
          ]
        }
      ]
    },
    {
      "cell_type": "code",
      "source": [
        "%cd /content/gdrive/MyDrive/emotion_recognition/2022reference\n",
        "!python multimodal_classification_concat.py --batch_size 16 --lr 1e-5 --num_fold 1 --dataset 19 --dataset_dir '/content/gdrive/MyDrive/emotion_recognition/dataset/KEMDy19'"
      ],
      "metadata": {
        "id": "fGSFs-Z6a-oL",
        "outputId": "d0f77158-0b74-4b24-e613-c17743dcb09b",
        "colab": {
          "base_uri": "https://localhost:8080/"
        }
      },
      "execution_count": 52,
      "outputs": [
        {
          "output_type": "stream",
          "name": "stdout",
          "text": [
            "/content/gdrive/MyDrive/emotion_recognition/2022reference\n",
            "/content/gdrive/MyDrive/emotion_recognition/2022reference/multimodal_classification_concat.py:153: SyntaxWarning: \"is\" with a literal. Did you mean \"==\"?\n",
            "  usecols_element = [3, 4, 5, 6] if args.dataset is 20 else [9, 10, 11, 12]\n",
            "Traceback (most recent call last):\n",
            "  File \"/content/gdrive/MyDrive/emotion_recognition/2022reference/multimodal_classification_concat.py\", line 14, in <module>\n",
            "    from transformers import AutoTokenizer, AutoModel, AdamW\n",
            "  File \"/usr/local/lib/python3.9/dist-packages/transformers/__init__.py\", line 26, in <module>\n",
            "    from . import dependency_versions_check\n",
            "  File \"/usr/local/lib/python3.9/dist-packages/transformers/dependency_versions_check.py\", line 17, in <module>\n",
            "    from .utils.versions import require_version, require_version_core\n",
            "  File \"/usr/local/lib/python3.9/dist-packages/transformers/utils/__init__.py\", line 30, in <module>\n",
            "    from .generic import (\n",
            "  File \"/usr/local/lib/python3.9/dist-packages/transformers/utils/generic.py\", line 33, in <module>\n",
            "    import jax.numpy as jnp\n",
            "  File \"/usr/local/lib/python3.9/dist-packages/jax/__init__.py\", line 77, in <module>\n",
            "    from jax._src.api import effects_barrier\n",
            "  File \"/usr/local/lib/python3.9/dist-packages/jax/_src/api.py\", line 40, in <module>\n",
            "    from jax import stages\n",
            "  File \"/usr/local/lib/python3.9/dist-packages/jax/stages.py\", line 27, in <module>\n",
            "    from jax._src.stages import (\n",
            "  File \"/usr/local/lib/python3.9/dist-packages/jax/_src/stages.py\", line 40, in <module>\n",
            "    from jax.interpreters import mlir\n",
            "  File \"/usr/local/lib/python3.9/dist-packages/jax/interpreters/mlir.py\", line 15, in <module>\n",
            "    from jax._src.interpreters.mlir import (\n",
            "  File \"/usr/local/lib/python3.9/dist-packages/jax/_src/interpreters/mlir.py\", line 48, in <module>\n",
            "    from jax._src.lib.mlir.dialects import hlo\n",
            "  File \"/usr/local/lib/python3.9/dist-packages/jax/_src/lib/mlir/dialects/__init__.py\", line 21, in <module>\n",
            "    import jaxlib.mlir.dialects.sparse_tensor as sparse_tensor\n",
            "  File \"<frozen importlib._bootstrap>\", line 1007, in _find_and_load\n",
            "  File \"<frozen importlib._bootstrap>\", line 986, in _find_and_load_unlocked\n",
            "  File \"<frozen importlib._bootstrap>\", line 680, in _load_unlocked\n",
            "  File \"<frozen importlib._bootstrap_external>\", line 846, in exec_module\n",
            "  File \"<frozen importlib._bootstrap_external>\", line 941, in get_code\n",
            "  File \"<frozen importlib._bootstrap_external>\", line 1040, in get_data\n",
            "KeyboardInterrupt\n",
            "^C\n"
          ]
        }
      ]
    },
    {
      "cell_type": "code",
      "source": [
        "import pickle as pkl\n",
        "# import os\n",
        "# # make_label=[]\n",
        "# makelabel_root='/content/gdrive/MyDrive/emotion_recognition/2022reference/KEMDy19/all_arousal_19.pkl'\n",
        "txt_feats_root='/content/gdrive/MyDrive/emotion_recognition/2022reference/KEMDy19/txt_feats_1.pkl'\n",
        "# print(os.path.isfile(makelabel_root))\n",
        "with open(txt_feats_root,'rb') as f:\n",
        "  txt_feats=pkl.load(f)\n",
        "wav_feats_root='/content/gdrive/MyDrive/emotion_recognition/2022reference/KEMDy19/wav_feats_1.pkl'\n",
        "# print(os.path.isfile(makelabel_root))\n",
        "with open(wav_feats_root,'rb') as f:\n",
        "  wav_feats=pkl.load(f)\n",
        "\n",
        "\n",
        "# print(len(make_label))\n",
        "print(txt_feats[0][0].shape)\n",
        "print(wav_feats[0][0].shape)\n",
        "\n",
        "print(type(txt_feats[0][0]))\n",
        "print(type(wav_feats[0][0]))\n",
        "\n",
        "print(txt_feats[0][0].dtype)\n",
        "print(wav_feats[0][0].dtype)\n"
      ],
      "metadata": {
        "id": "g0f6Zou4a-mE",
        "outputId": "ab8cc616-43ae-48ec-97cf-6e38d38bb052",
        "colab": {
          "base_uri": "https://localhost:8080/"
        }
      },
      "execution_count": 27,
      "outputs": [
        {
          "output_type": "stream",
          "name": "stdout",
          "text": [
            "torch.Size([768])\n",
            "torch.Size([512])\n",
            "<class 'torch.Tensor'>\n",
            "<class 'torch.Tensor'>\n",
            "torch.float32\n",
            "torch.float32\n"
          ]
        }
      ]
    },
    {
      "cell_type": "code",
      "source": [
        "%cd /content/gdrive/MyDrive/emotion_recognition/2022reference\n",
        "!python multimodal_feature_extractor.py --batch_size 16 --lr 1e-5 --dataset 19 --dataset_dir '/content/gdrive/MyDrive/emotion_recognition/dataset/KEMDy19'"
      ],
      "metadata": {
        "id": "h3BLdqy7a-j-",
        "outputId": "f9db4910-8a48-45a9-a917-1101254aae1d",
        "colab": {
          "base_uri": "https://localhost:8080/"
        }
      },
      "execution_count": 1,
      "outputs": [
        {
          "output_type": "stream",
          "name": "stdout",
          "text": [
            "/content/gdrive/MyDrive/emotion_recognition/2022reference\n",
            "/content/gdrive/MyDrive/emotion_recognition/2022reference/multimodal_feature_extractor.py:153: SyntaxWarning: \"is\" with a literal. Did you mean \"==\"?\n",
            "  usecols_element = [3, 4, 5, 6] if args.dataset is 20 else [9, 10, 11, 12]\n",
            "2023-04-03 09:42:27.969116: W tensorflow/compiler/tf2tensorrt/utils/py_utils.cc:38] TF-TRT Warning: Could not find TensorRT\n",
            "device: cuda\n",
            "1\n",
            "2\n",
            "load from 19\n",
            "Some weights of the model checkpoint at facebook/wav2vec2-base-960h were not used when initializing Wav2Vec2Model: ['lm_head.weight', 'lm_head.bias']\n",
            "- This IS expected if you are initializing Wav2Vec2Model from the checkpoint of a model trained on another task or with another architecture (e.g. initializing a BertForSequenceClassification model from a BertForPreTraining model).\n",
            "- This IS NOT expected if you are initializing Wav2Vec2Model from the checkpoint of a model that you expect to be exactly identical (initializing a BertForSequenceClassification model from a BertForSequenceClassification model).\n",
            "Some weights of Wav2Vec2Model were not initialized from the model checkpoint at facebook/wav2vec2-base-960h and are newly initialized: ['wav2vec2.masked_spec_embed']\n",
            "You should probably TRAIN this model on a down-stream task to be able to use it for predictions and inference.\n",
            "Some weights of the model checkpoint at klue/bert-base were not used when initializing BertModel: ['cls.predictions.transform.dense.bias', 'cls.predictions.decoder.weight', 'cls.predictions.transform.dense.weight', 'cls.predictions.bias', 'cls.predictions.decoder.bias', 'cls.seq_relationship.weight', 'cls.seq_relationship.bias', 'cls.predictions.transform.LayerNorm.bias', 'cls.predictions.transform.LayerNorm.weight']\n",
            "- This IS expected if you are initializing BertModel from the checkpoint of a model trained on another task or with another architecture (e.g. initializing a BertForSequenceClassification model from a BertForPreTraining model).\n",
            "- This IS NOT expected if you are initializing BertModel from the checkpoint of a model that you expect to be exactly identical (initializing a BertForSequenceClassification model from a BertForSequenceClassification model).\n",
            "Running evaluation...\n",
            "1285\n",
            "100% 1285/1285 [13:38<00:00,  1.57it/s]\n"
          ]
        }
      ]
    },
    {
      "cell_type": "code",
      "source": [
        "import pickle as pkl\n",
        "txt_feats1_root='/content/gdrive/MyDrive/emotion_recognition/2022reference/KEMDy19/wav_feats_1.pkl'\n",
        "# print(os.path.isfile(makelabel_root))\n",
        "with open(txt_feats1_root,'rb') as f:\n",
        "  txt_feats1=pkl.load(f)\n",
        "txt_feats2_root='/content/gdrive/MyDrive/emotion_recognition/2022reference/KEMDy19/wav_feats_2.pkl'\n",
        "# print(os.path.isfile(makelabel_root))\n",
        "with open(txt_feats2_root,'rb') as f:\n",
        "  txt_feats2=pkl.load(f)\n",
        "\n",
        "all_txt_feats=[]\n",
        "for batch in txt_feats1:\n",
        "  for data in batch:\n",
        "    all_txt_feats.append(data)\n",
        "for batch in txt_feats2:\n",
        "  for data in batch:\n",
        "    all_txt_feats.append(data)\n",
        "\n"
      ],
      "metadata": {
        "id": "cV9qojtIcirB"
      },
      "execution_count": 3,
      "outputs": []
    },
    {
      "cell_type": "code",
      "source": [
        "# print(all_txt_feats[1])\n",
        "all_txt_feats_root='/content/gdrive/MyDrive/emotion_recognition/2022reference/KEMDy19/all_wav_feats.pkl'\n",
        "with open(all_txt_feats_root,'wb') as f:\n",
        "  pkl.dump(all_txt_feats,f)"
      ],
      "metadata": {
        "id": "7BBac7CPa-gq"
      },
      "execution_count": 34,
      "outputs": []
    },
    {
      "cell_type": "code",
      "source": [
        "# txt_feats1_root='/content/gdrive/MyDrive/emotion_recognition/2022reference/KEMDy19/all_txt_feats.pkl'\n",
        "# # print(os.path.isfile(makelabel_root))\n",
        "# with open(txt_feats1_root,'rb') as f:\n",
        "#   txt_feats=pkl.load(f)\n",
        "print(txt_feats[0])"
      ],
      "metadata": {
        "id": "LuspU6xca-Ym",
        "outputId": "9e22f0cc-73a9-4f89-e931-d9d4391de811",
        "colab": {
          "base_uri": "https://localhost:8080/"
        }
      },
      "execution_count": 37,
      "outputs": [
        {
          "output_type": "stream",
          "name": "stdout",
          "text": [
            "tensor([-0.3530,  0.6047, -0.7335, -0.9694,  0.4184, -0.1822,  0.3711, -0.5310,\n",
            "         0.8577, -0.9912,  0.2941,  0.9709,  0.2449, -0.0660, -0.6347,  0.1214,\n",
            "        -0.8209,  0.6711, -0.1502,  0.7917, -0.6928, -0.3602,  0.4082,  0.5011,\n",
            "         0.4802,  0.6237,  0.5646, -0.9314, -0.2300,  0.8616,  0.0932, -0.4756,\n",
            "         0.5191, -0.1898, -0.4700,  0.3797, -0.9973, -0.9853,  0.0443,  0.1577,\n",
            "        -0.5483, -0.4189, -0.8494,  0.9448,  0.4516, -0.4592, -0.1326, -0.9581,\n",
            "         0.4246,  0.5677,  0.8373,  0.6721,  0.9933, -0.9167, -0.7684,  0.4012,\n",
            "         0.9987, -0.9886,  0.7590,  0.6745, -0.8604, -0.2023,  0.9999,  0.8177,\n",
            "         0.9766, -0.1853,  0.9500,  0.6497,  0.9547,  0.2863,  0.5469, -0.1736,\n",
            "         0.9921,  0.2790, -0.0962,  0.4203, -0.2691,  0.9562,  0.6625,  0.5267,\n",
            "        -0.0486, -0.3935, -0.0248, -0.7890, -0.9143, -0.5571, -0.3179,  0.9986,\n",
            "         0.3383, -0.6745, -0.8877,  0.7956,  0.0286,  0.2477, -0.7309, -0.8744,\n",
            "         0.9335, -0.9254,  0.9033, -0.2517,  0.4266, -0.6880, -0.6510,  0.3516,\n",
            "         0.5744, -0.5206,  0.9778, -0.8333, -0.8782, -0.4892, -0.3350, -0.1652,\n",
            "         0.7537,  0.5121,  0.9957,  0.0047,  0.9540, -0.5047, -0.5115, -0.8605,\n",
            "        -0.1141, -0.5352, -0.9951, -0.1758, -0.2793, -0.1427, -0.4516, -0.9981,\n",
            "         0.8159, -0.6656, -0.5512,  0.1451, -0.8646, -0.9861,  0.5988,  0.0663,\n",
            "         0.6579,  0.7479, -0.0832, -0.6200,  0.9810, -0.9990, -0.0041,  0.9925,\n",
            "        -0.6256, -0.3494, -0.7767, -0.6983,  0.7384, -0.3012, -0.9836, -0.5516,\n",
            "        -0.3550, -0.9756,  0.2407, -0.6437, -0.6064, -0.4698, -0.5208,  0.6283,\n",
            "        -0.2451, -0.9809,  0.3974, -0.2142,  0.8080,  0.9881, -0.0461,  0.0929,\n",
            "        -0.0597,  0.0223, -0.1821, -0.9577,  0.2647,  0.6088, -0.4613, -0.4615,\n",
            "         0.5090,  0.8907,  0.5144, -0.4825, -0.2111, -0.8228,  0.7649,  0.1878,\n",
            "        -0.1329, -0.4459, -0.4228, -0.9942,  0.5709,  0.6102,  0.2833,  0.9962,\n",
            "        -0.1884, -0.9213,  0.5622,  0.0508, -0.7882, -0.1347, -0.1632, -0.7181,\n",
            "         0.4288, -0.1504, -0.8122,  0.4083,  0.9966,  0.8880,  0.9988, -0.8943,\n",
            "         0.2699,  0.5898,  0.2409, -0.4612,  0.7480, -0.8024,  0.2062,  0.3652,\n",
            "         0.0349,  0.7084,  0.2399, -0.9667, -0.9212, -0.0866, -0.7915,  0.9546,\n",
            "         0.7387, -0.0823, -0.8932,  0.1690, -0.9057,  0.5842,  0.3597, -0.5841,\n",
            "        -0.5865, -0.5919, -0.9964, -0.7945,  0.7091, -0.4381, -0.7518, -0.6077,\n",
            "         0.3094, -0.2174,  0.8911,  0.6787, -0.9720, -0.3627,  0.2879,  0.2131,\n",
            "         0.7175,  0.5008, -0.3481,  0.0095,  0.8749, -0.5730,  0.9632,  0.6944,\n",
            "        -0.7061, -0.9986,  0.8489,  0.0604, -0.9230,  0.3035, -0.9621, -0.1701,\n",
            "        -0.0111, -0.4097, -0.4539, -0.0507, -0.9992, -0.8572, -0.8422, -0.2052,\n",
            "         0.3583,  0.1980, -0.2622, -0.3024,  0.5402, -0.1520, -0.2003,  0.3285,\n",
            "         0.3262,  0.9991,  0.3218, -0.9919, -0.4409, -0.4322,  0.8167,  0.3009,\n",
            "        -0.8943, -0.3234,  0.8066,  0.7748,  0.1204, -0.2771,  0.5633,  0.3504,\n",
            "        -0.1095,  0.1097,  0.5241,  0.4872, -0.1247, -0.9336,  0.6018,  0.2190,\n",
            "         0.2255,  0.8946,  0.9765, -0.3780,  0.3221, -0.4967, -0.8786,  0.8869,\n",
            "         0.9916,  0.9095,  0.5081, -0.4963, -0.9735, -0.0656,  0.0095,  0.1886,\n",
            "         0.9694,  0.8900,  0.3626, -0.4050, -0.2226, -0.9622, -0.5851, -0.9544,\n",
            "         0.3446, -0.9544,  0.1611, -0.3538, -0.2766,  0.2869,  0.3527,  0.2729,\n",
            "         0.6431,  0.4657, -0.9516,  0.5520,  0.6469, -0.7517, -0.1876,  0.1565,\n",
            "         0.5614, -0.8946,  0.5985, -0.1733, -0.6513, -0.6827, -0.9715, -0.3018,\n",
            "        -0.0582, -0.7701,  0.2136, -0.7696,  0.8312, -0.9887, -0.8070, -0.6176,\n",
            "         0.3843,  0.7441,  0.1242,  0.1159,  0.1181, -0.7358, -0.2083, -0.1841,\n",
            "        -0.8809, -0.5152, -0.0690,  0.0074,  0.2737,  0.5070, -0.6105,  0.0479,\n",
            "         0.4113, -0.9993, -0.5973, -0.8220,  0.9863,  0.6137, -0.2707,  0.9989,\n",
            "        -0.5492,  0.1193, -0.5198, -0.5676,  0.1997,  0.3571,  0.3791,  0.6458,\n",
            "        -0.7871, -0.3195,  0.9967, -0.3682, -0.9288, -0.9448, -0.3108, -0.9794,\n",
            "        -0.2605, -0.1117,  0.0747, -0.8640, -0.7411, -0.0899,  0.9773,  0.8809,\n",
            "         0.6052, -0.3075, -0.7546,  0.1251, -0.5617,  0.2663,  0.9844, -0.7172,\n",
            "         0.8469,  0.6890, -0.3901,  0.9392, -0.5372, -0.9995,  0.1337, -0.7941,\n",
            "         0.9850,  0.3967,  0.0372,  0.6749, -0.3952, -0.0141, -0.1082, -0.9971,\n",
            "         0.9983,  0.6246,  0.4495,  0.8588, -0.4402, -0.1745,  0.3595, -0.3585,\n",
            "        -0.5521,  0.8288, -0.5629,  0.5610, -0.6849,  0.9010,  0.1452,  0.6694,\n",
            "        -0.5859, -0.9715, -0.7877, -0.1902,  0.4830,  0.0260,  0.7387,  0.4838,\n",
            "        -0.5497,  0.2313,  0.2916, -0.3516, -0.4754, -0.6125, -0.1971,  0.4546,\n",
            "         0.4969,  0.9974, -0.7446, -0.9681, -0.6140,  0.9930, -0.0519,  0.3848,\n",
            "         0.4724,  0.3886, -0.7707, -0.0711,  0.1354, -0.9991,  0.9968, -0.5363,\n",
            "        -0.0376,  0.3932, -0.2986, -0.3172, -0.9999,  0.8835,  0.8067, -0.2879,\n",
            "        -0.0913,  0.2406,  0.1782, -0.9784,  0.2317,  0.1853, -0.7820,  0.9484,\n",
            "         0.4353,  0.5418, -0.6622, -0.0441,  0.7824,  0.1389,  0.2997, -0.5073,\n",
            "        -0.8460, -0.3449, -0.7002,  0.5131,  0.5568,  0.7350, -0.6288, -0.9392,\n",
            "         0.9944, -0.8789, -0.9079,  0.5876, -0.2630,  0.0821, -0.9723, -0.7522,\n",
            "        -0.0101, -0.1540,  0.9195,  0.6999, -0.8475,  0.3096, -0.6684, -0.2384,\n",
            "         0.4047, -0.0709,  0.6592,  0.5883, -0.7581, -0.7875, -0.9986,  0.0920,\n",
            "         0.3081, -0.3702, -0.3420,  0.4438, -0.4281,  0.0215, -0.4243, -0.6055,\n",
            "         0.9988,  0.9999, -0.9815,  0.3057, -0.9691, -0.9999,  0.3893,  0.2062,\n",
            "         0.7202, -0.2146, -0.5949, -0.5716,  0.1582, -0.5288, -0.2188, -0.9189,\n",
            "         0.6454,  0.8942, -0.8968,  0.7311,  0.0988, -0.9139, -0.1488,  0.5866,\n",
            "        -0.9960,  0.2754,  0.1892,  0.0055,  0.7947, -0.8332, -0.1447, -0.9754,\n",
            "        -0.9276,  0.7106,  0.3768, -0.1079, -0.2366,  0.4997,  0.0379,  0.0808,\n",
            "         0.7065,  0.7569, -0.0878, -0.3918,  0.2354, -0.4081,  0.2770, -0.8505,\n",
            "        -0.7777,  0.5498, -0.9330,  0.0618,  0.0140,  0.8171, -0.7249,  0.0225,\n",
            "        -0.5196,  0.0682, -0.5433, -0.9746, -0.7854, -0.3242, -0.3174, -0.0905,\n",
            "        -0.6538, -0.8108,  0.2003, -0.1289,  0.0550, -0.2330,  0.4946, -0.3007,\n",
            "         0.5819, -0.4598, -0.0926, -0.3115,  0.1051,  0.0024, -0.2661,  0.7183,\n",
            "        -0.3456, -0.9998,  0.9997,  0.9893, -0.5536,  0.6028,  0.9136, -0.1871,\n",
            "        -0.6352, -0.6706,  0.9897, -0.9687,  0.3043, -0.3992, -0.4992, -0.6266,\n",
            "        -0.0511, -0.1289,  0.1244,  0.3186,  0.5729, -0.5077,  0.8590,  0.9910,\n",
            "         0.3633, -0.0648,  0.4490, -0.2889, -0.7861, -0.7067, -0.9943,  0.9798,\n",
            "         0.6993,  0.9973, -0.2246, -0.5390,  0.5598, -0.9778,  0.7790, -0.4540,\n",
            "        -0.6974,  0.9675,  0.9379, -0.0165,  0.7765, -0.7507, -0.6501, -0.8076,\n",
            "         0.9653,  0.8833,  0.9193,  0.4924, -0.5026,  0.3799,  0.9955,  0.9693,\n",
            "        -0.8969, -0.3244,  0.0376,  0.9796, -0.2884, -0.1582, -0.3520,  0.3925,\n",
            "        -0.9067,  0.1343, -0.1889, -0.1496,  0.7210,  0.4408, -0.8032,  0.7071,\n",
            "         0.1028,  0.1449, -0.9708,  0.9745,  0.5842,  0.4574,  0.0117, -0.0518,\n",
            "        -0.5789,  0.1310,  0.9947,  0.4024,  0.9375, -0.2597,  0.6545,  0.3907,\n",
            "         0.0349,  0.2910, -0.4487, -0.9970,  0.2878,  0.6929,  0.2635, -0.3380,\n",
            "         0.6359,  0.9921,  0.1199,  0.9738, -0.9755, -0.9011, -0.9986,  0.1544,\n",
            "        -0.8154, -0.1472,  0.0169, -0.9943, -0.7979,  0.3760, -0.1954, -0.9970,\n",
            "        -0.7774,  0.5487, -0.5678,  0.0815,  0.9480, -0.0252,  0.5490, -0.3034,\n",
            "        -0.9464,  0.5579, -0.2561,  0.8740,  0.4301,  0.2201, -0.2818, -0.6900,\n",
            "         0.3145,  0.5311,  0.6023, -0.0702,  0.3154, -0.9128, -0.9938, -0.5373,\n",
            "         0.1176,  0.8331, -0.1940, -0.9358,  0.4175,  0.2011,  0.1459, -0.9624],\n",
            "       device='cuda:0')\n"
          ]
        }
      ]
    }
  ]
}
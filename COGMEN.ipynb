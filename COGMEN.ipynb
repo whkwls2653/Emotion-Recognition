{
  "nbformat": 4,
  "nbformat_minor": 0,
  "metadata": {
    "colab": {
      "name": "tip-colab-파일저장및업로드-colab",
      "provenance": [],
      "include_colab_link": true
    },
    "kernelspec": {
      "display_name": "Python 3",
      "name": "python3"
    },
    "gpuClass": "standard"
  },
  "cells": [
    {
      "cell_type": "markdown",
      "metadata": {
        "id": "view-in-github",
        "colab_type": "text"
      },
      "source": [
        "<a href=\"https://colab.research.google.com/github/whkwls2653/Emotion-Recognition/blob/main/COGMEN.ipynb\" target=\"_parent\"><img src=\"https://colab.research.google.com/assets/colab-badge.svg\" alt=\"Open In Colab\"/></a>"
      ]
    },
    {
      "cell_type": "code",
      "source": [
        "##cogmen\n",
        "\n",
        "from google.colab import drive\n",
        "drive.mount('/content/gdrive')\n",
        "     "
      ],
      "metadata": {
        "id": "fGSFs-Z6a-oL",
        "colab": {
          "base_uri": "https://localhost:8080/"
        },
        "outputId": "afdc318c-2ca2-4664-9497-9ed72bc10790"
      },
      "execution_count": 1,
      "outputs": [
        {
          "output_type": "stream",
          "name": "stdout",
          "text": [
            "Drive already mounted at /content/gdrive; to attempt to forcibly remount, call drive.mount(\"/content/gdrive\", force_remount=True).\n"
          ]
        }
      ]
    },
    {
      "cell_type": "code",
      "source": [
        "!pip install torch_geometric\n",
        "!pip install comet-ml\n",
        "!pip install -U sentence-transformers"
      ],
      "metadata": {
        "id": "h3BLdqy7a-j-"
      },
      "execution_count": null,
      "outputs": []
    },
    {
      "cell_type": "code",
      "source": [
        "%cd /content/gdrive/MyDrive/감정인식_대회/COGMEN/\n",
        "!ls\n",
        "# !python preprocess.py --dataset='iemocap_4'"
      ],
      "metadata": {
        "id": "7BBac7CPa-gq",
        "colab": {
          "base_uri": "https://localhost:8080/"
        },
        "outputId": "d2355413-3dd1-4b49-cc87-5b5f9daf4016"
      },
      "execution_count": 11,
      "outputs": [
        {
          "output_type": "stream",
          "name": "stdout",
          "text": [
            "[Errno 2] No such file or directory: '/content/gdrive/MyDrive/감정인식_대회/COGMEN/'\n",
            "/content/gdrive/MyDrive/emotion_recognition/COGMEN\n",
            "cogmen\t\t\t eval.py\t    models\t   run_eval.sh\n",
            "COGMEN_architecture.png  LICENSE\t    preprocess.py  train.py\n",
            "data\t\t\t model_checkpoints  README.md\n"
          ]
        }
      ]
    },
    {
      "cell_type": "code",
      "source": [
        "import cogmen\n",
        "test_iemocap=cogmen.utils.load_pkl('./data/iemocap_4/data_iemocap_4.pkl')"
      ],
      "metadata": {
        "colab": {
          "base_uri": "https://localhost:8080/",
          "height": 343
        },
        "id": "KxxTcvQKkqXM",
        "outputId": "fd98d23a-326b-4e5f-d11a-2679d132acf1"
      },
      "execution_count": 12,
      "outputs": [
        {
          "output_type": "error",
          "ename": "AttributeError",
          "evalue": "ignored",
          "traceback": [
            "\u001b[0;31m---------------------------------------------------------------------------\u001b[0m",
            "\u001b[0;31mAttributeError\u001b[0m                            Traceback (most recent call last)",
            "\u001b[0;32m<ipython-input-12-4797269bc555>\u001b[0m in \u001b[0;36m<cell line: 1>\u001b[0;34m()\u001b[0m\n\u001b[0;32m----> 1\u001b[0;31m \u001b[0;32mimport\u001b[0m \u001b[0mcogmen\u001b[0m\u001b[0;34m\u001b[0m\u001b[0;34m\u001b[0m\u001b[0m\n\u001b[0m\u001b[1;32m      2\u001b[0m \u001b[0mtest_iemocap\u001b[0m\u001b[0;34m=\u001b[0m\u001b[0mcogmen\u001b[0m\u001b[0;34m.\u001b[0m\u001b[0mutils\u001b[0m\u001b[0;34m.\u001b[0m\u001b[0mload_pkl\u001b[0m\u001b[0;34m(\u001b[0m\u001b[0;34m'./data/iemocap_4/data_iemocap_4.pkl'\u001b[0m\u001b[0;34m)\u001b[0m\u001b[0;34m\u001b[0m\u001b[0;34m\u001b[0m\u001b[0m\n",
            "\u001b[0;32m/content/gdrive/MyDrive/emotion_recognition/COGMEN/cogmen/__init__.py\u001b[0m in \u001b[0;36m<module>\u001b[0;34m\u001b[0m\n\u001b[1;32m      2\u001b[0m \u001b[0;32mfrom\u001b[0m \u001b[0;34m.\u001b[0m\u001b[0mSample\u001b[0m \u001b[0;32mimport\u001b[0m \u001b[0mSample\u001b[0m\u001b[0;34m\u001b[0m\u001b[0;34m\u001b[0m\u001b[0m\n\u001b[1;32m      3\u001b[0m \u001b[0;32mfrom\u001b[0m \u001b[0;34m.\u001b[0m\u001b[0mDataset\u001b[0m \u001b[0;32mimport\u001b[0m \u001b[0mDataset\u001b[0m\u001b[0;34m\u001b[0m\u001b[0;34m\u001b[0m\u001b[0m\n\u001b[0;32m----> 4\u001b[0;31m \u001b[0;32mfrom\u001b[0m \u001b[0;34m.\u001b[0m\u001b[0mCoach\u001b[0m \u001b[0;32mimport\u001b[0m \u001b[0mCoach\u001b[0m\u001b[0;34m\u001b[0m\u001b[0;34m\u001b[0m\u001b[0m\n\u001b[0m\u001b[1;32m      5\u001b[0m \u001b[0;32mfrom\u001b[0m \u001b[0;34m.\u001b[0m\u001b[0mmodel\u001b[0m\u001b[0;34m.\u001b[0m\u001b[0mCOGMEN\u001b[0m \u001b[0;32mimport\u001b[0m \u001b[0mCOGMEN\u001b[0m\u001b[0;34m\u001b[0m\u001b[0;34m\u001b[0m\u001b[0m\n\u001b[1;32m      6\u001b[0m \u001b[0;32mfrom\u001b[0m \u001b[0;34m.\u001b[0m\u001b[0mOptim\u001b[0m \u001b[0;32mimport\u001b[0m \u001b[0mOptim\u001b[0m\u001b[0;34m\u001b[0m\u001b[0;34m\u001b[0m\u001b[0m\n",
            "\u001b[0;32m/content/gdrive/MyDrive/emotion_recognition/COGMEN/cogmen/Coach.py\u001b[0m in \u001b[0;36m<module>\u001b[0;34m\u001b[0m\n\u001b[1;32m     10\u001b[0m \u001b[0;32mimport\u001b[0m \u001b[0mcogmen\u001b[0m\u001b[0;34m\u001b[0m\u001b[0;34m\u001b[0m\u001b[0m\n\u001b[1;32m     11\u001b[0m \u001b[0;34m\u001b[0m\u001b[0m\n\u001b[0;32m---> 12\u001b[0;31m \u001b[0mlog\u001b[0m \u001b[0;34m=\u001b[0m \u001b[0mcogmen\u001b[0m\u001b[0;34m.\u001b[0m\u001b[0mutils\u001b[0m\u001b[0;34m.\u001b[0m\u001b[0mget_logger\u001b[0m\u001b[0;34m(\u001b[0m\u001b[0;34m)\u001b[0m\u001b[0;34m\u001b[0m\u001b[0;34m\u001b[0m\u001b[0m\n\u001b[0m\u001b[1;32m     13\u001b[0m \u001b[0;34m\u001b[0m\u001b[0m\n\u001b[1;32m     14\u001b[0m \u001b[0;34m\u001b[0m\u001b[0m\n",
            "\u001b[0;31mAttributeError\u001b[0m: partially initialized module 'cogmen' has no attribute 'utils' (most likely due to a circular import)"
          ]
        }
      ]
    },
    {
      "cell_type": "code",
      "source": [
        "%cd /content/gdrive/MyDrive/emotion_recognition/COGMEN_code/\n",
        "import cogmen\n",
        "test_feature=cogmen.utils.load_pkl('./data/iemocap_4/IEMOCAP_features_4.pkl')\n",
        "a=test_feature[0]#['Ses02F_script01_3']\n",
        "# 'Ses02F_script01_3'\n",
        "print(type(a))\n",
        "print(len(a))\n",
        "print(a[0])\n",
        "\n",
        "# print(a)\n",
        "\n",
        "\n",
        "\n",
        "\n",
        "# print(test_iemocap['train'][0].label)"
      ],
      "metadata": {
        "colab": {
          "base_uri": "https://localhost:8080/"
        },
        "id": "z9hNJp7tkqIM",
        "outputId": "619c32fa-28f7-4846-ebdd-5be50863c9ad"
      },
      "execution_count": 16,
      "outputs": [
        {
          "output_type": "stream",
          "name": "stdout",
          "text": [
            "/content/gdrive/MyDrive/emotion_recognition/COGMEN_code\n",
            "<class 'list'>\n",
            "151\n",
            "Ses02F_script01_3\n"
          ]
        }
      ]
    },
    {
      "cell_type": "code",
      "source": [
        "!python train.py --dataset=\"iemocap_4\" --modalities=\"atv\" --from_begin --epochs=55"
      ],
      "metadata": {
        "id": "LuspU6xca-Ym"
      },
      "execution_count": null,
      "outputs": []
    },
    {
      "cell_type": "code",
      "source": [
        "!    python eval.py --dataset=\"iemocap_4\" --modalities=\"atv\""
      ],
      "metadata": {
        "id": "TT08YxvmmDd_",
        "outputId": "b5364f8d-d3bc-4889-d1d5-01f4b804a508",
        "colab": {
          "base_uri": "https://localhost:8080/"
        }
      },
      "execution_count": null,
      "outputs": [
        {
          "output_type": "stream",
          "name": "stdout",
          "text": [
            "test: 100% 1/1 [00:01<00:00,  1.05s/it]\n",
            "              precision    recall  f1-score   support\n",
            "\n",
            "           0     0.7518    0.7153    0.7331       144\n",
            "           1     0.8583    0.8898    0.8737       245\n",
            "           2     0.8234    0.7526    0.7864       384\n",
            "           3     0.7811    0.9235    0.8464       170\n",
            "\n",
            "    accuracy                         0.8134       943\n",
            "   macro avg     0.8036    0.8203    0.8099       943\n",
            "weighted avg     0.8139    0.8134    0.8118       943\n",
            "\n",
            "F1 Score: 0.8117612771927994\n"
          ]
        }
      ]
    }
  ]
}